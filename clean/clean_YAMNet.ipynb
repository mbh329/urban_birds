{
 "cells": [
  {
   "cell_type": "code",
   "execution_count": 2,
   "metadata": {},
   "outputs": [],
   "source": [
    "import sys\n",
    "import h5py\n",
    "import datetime\n",
    "import numpy as np\n",
    "\n",
    "sys.path.append('../')\n",
    "from envir import config"
   ]
  },
  {
   "cell_type": "code",
   "execution_count": 4,
   "metadata": {},
   "outputs": [],
   "source": [
    "#format the date\n",
    "def date_formatter(time):\n",
    "    return datetime.datetime.fromtimestamp(float(time.split('_')[1])).strftime('%Y-%m-%d %H:%M:%S')"
   ]
  },
  {
   "cell_type": "code",
   "execution_count": 6,
   "metadata": {},
   "outputs": [
    {
     "name": "stdout",
     "output_type": "stream",
     "text": [
      "b827eb815321 2020-05-11 23\n",
      "b827eb8e2420 2020-05-11 23\n",
      "b827eb905497 2020-04-13 02\n",
      "b827eb0fedda 2020-05-11 23\n",
      "b827eb1685c7 2020-05-08 23\n"
     ]
    }
   ],
   "source": [
    "#initialize threshold\n",
    "thres = 0.5\n",
    "\n",
    "#write to csv\n",
    "f = open('../../../share/data/clean_yamnet/clean_yamnet.csv','w')\n",
    "\n",
    "sensors = ['b827eb815321','b827eb8e2420','b827eb905497', 'b827eb0fedda','b827eb1685c7']\n",
    "for sensor in sensors:\n",
    "    #read in file\n",
    "    sensor_file = h5py.File(config.dataFol+'YAMNet/06-09-2020/'+sensor+'_yamnet-pred.h5','r')\n",
    "    current_hour = None\n",
    "    bird_dict = {}\n",
    "    bird_cnt = None #count the number of bird recordings in each hour\n",
    "    total_cnt = None #cont the total number of recordings in each hour\n",
    "    last_hour = date_formatter(list(sensor_file.keys())[-1])[:-6] #the end time of each sensor\n",
    "    print(sensor, last_hour)\n",
    "    #birdList = None\n",
    "    \n",
    "    #Filter all valid predictions by timestamp and take the average\n",
    "    for time in list(sensor_file.keys()):\n",
    "        timestamp = date_formatter(time)     #format epoch time\n",
    "        current_min = int(timestamp[-5:-3])  #get current minute\n",
    "        bird_class = [x[107] for x in np.array(sensor_file[time])] #get only the predictions for class 107 (Bird vocalization, bird call, bird song)\n",
    "        \n",
    "        #initialize the values of current_hour, bird_cnt, and total_cnt\n",
    "        if current_hour is None:\n",
    "            current_hour = timestamp[:-6]\n",
    "            bird_cnt = 0\n",
    "            total_cnt = 0\n",
    "            #birdList = [0]*60\n",
    "\n",
    "        #update current hour, update bird presence rate\n",
    "        if timestamp[:-6] != current_hour:\n",
    "            bird_dict[current_hour] = round(float(bird_cnt/total_cnt),5)\n",
    "            current_hour = timestamp[:-6]\n",
    "            bird_cnt = 0\n",
    "            total_cnt = 0\n",
    "            #birdList = [0]*60\n",
    "            \n",
    "        #if reaches the last hour in file\n",
    "        if current_hour == last_hour:\n",
    "            #write to bird_dict every timestamp\n",
    "            if (total_cnt == 0):\n",
    "                bird_dict[current_hour] = 0\n",
    "            else:\n",
    "                bird_dict[current_hour] = round(float(bird_cnt/total_cnt),5)\n",
    "\n",
    "        #check if any pred >= thres at the time \n",
    "        for pred in bird_class:\n",
    "            if pred >= thres:\n",
    "                #birdList[current_min] = 1\n",
    "                bird_cnt += 1\n",
    "                break;\n",
    "        \n",
    "        total_cnt +=1      \n",
    "    \n",
    "    #Count the number of predictions for each minute and write to file\n",
    "    for time in list(sensor_file.keys()):\n",
    "        timestamp = date_formatter(time)\n",
    "        current_min = timestamp[:-3]\n",
    "        current_hour = timestamp[:-6]\n",
    "        bird_class = [x[107] for x in np.array(sensor_file[time])] #get only the predictions for class 107 (Bird vocalization, bird call, bird song)\n",
    "\n",
    "        filter_list = list(filter(lambda x: (x >= thres) , bird_class))\n",
    "        try:\n",
    "            f.write(','.join([sensor, current_min, str(len(filter_list)), str(bird_dict[current_hour])])+'\\n')\n",
    "        except:\n",
    "            print(sensor,current_min,current_hour)\n",
    "\n",
    "#close file\n",
    "f.close()"
   ]
  },
  {
   "cell_type": "code",
   "execution_count": null,
   "metadata": {},
   "outputs": [],
   "source": [
    "#THE OLD WAY OF CLEANING YAMNET DATA\n",
    "\n",
    "# #initialize threshold\n",
    "# thres = 0.5\n",
    "\n",
    "# #write to csv\n",
    "# f = open('../../../share/data/clean_yamnet/clean_yamnet.csv','w')\n",
    "\n",
    "# sensors = ['b827eb815321','b827eb8e2420','b827eb905497', 'b827eb0fedda','b827eb1685c7']\n",
    "# for sensor in sensors:\n",
    "#     #read in file\n",
    "#     sensor_file = h5py.File(config.dataFol+'YAMNet/dense-bird/'+sensor+'_yamnet-pred-bird.h5','r')\n",
    "#     #Filter all valid predictions by timestamp and take the average\n",
    "#     for time in list(sensor_file.keys()):\n",
    "#         timestamp = date_formatter(time)\n",
    "#         filter_list = list(filter(lambda x: (x >= thres) , np.array(sensor_file[time]))) \n",
    "#         if len(filter_list) > 0:\n",
    "#             f.write(','.join([sensor, timestamp, str(len(filter_list)), str(np.mean(filter_list))])+'\\n') \n",
    "            \n",
    "# #close file\n",
    "# f.close()"
   ]
  },
  {
   "cell_type": "markdown",
   "metadata": {},
   "source": [
    "### Print start time and end time 2017-2020 for each sensor"
   ]
  },
  {
   "cell_type": "code",
   "execution_count": 1,
   "metadata": {},
   "outputs": [],
   "source": [
    "def checkTimeRange(sensor):\n",
    "    print(sensor+\":\")\n",
    "    start_time = [None]*4\n",
    "    end_time = [None]*4\n",
    "    #read in file\n",
    "    sensor_file = h5py.File(config.dataFol+'YAMNet/06-09-2020/'+sensor+'_yamnet-pred.h5','r')\n",
    "    for time in list(sensor_file.keys()):\n",
    "        timestamp = date_formatter(time)\n",
    "        year = int(timestamp[:4])\n",
    "        if start_time[year-2017] is None:\n",
    "            start_time[year-2017] = timestamp\n",
    "        if end_time[year-2017] is None:\n",
    "            end_time[year-2017] = timestamp\n",
    "\n",
    "        if timestamp < start_time[year-2017]:\n",
    "            start_time[year-2017] = timestamp\n",
    "        if timestamp > end_time[year-2017]:\n",
    "            end_time[year-2017] = timestamp\n",
    "    \n",
    "    print(dict(zip(start_time,end_time)))"
   ]
  },
  {
   "cell_type": "code",
   "execution_count": 5,
   "metadata": {},
   "outputs": [
    {
     "name": "stdout",
     "output_type": "stream",
     "text": [
      "b827eb815321:\n",
      "{'2017-02-26 01:00:05': '2017-03-24 23:59:47', '2018-03-02 06:26:04': '2018-05-12 21:02:05', '2019-02-24 00:00:35': '2019-05-12 04:08:33', '2020-02-24 00:02:09': '2020-05-11 23:57:49'}\n"
     ]
    }
   ],
   "source": [
    "checkTimeRange('b827eb815321')"
   ]
  },
  {
   "cell_type": "code",
   "execution_count": 6,
   "metadata": {},
   "outputs": [
    {
     "name": "stdout",
     "output_type": "stream",
     "text": [
      "b827eb8e2420:\n",
      "{'2017-03-10 14:49:37': '2017-05-12 23:59:19', '2018-02-24 00:00:10': '2018-05-12 23:59:49', '2019-02-24 00:01:33': '2019-05-12 23:59:13', '2020-02-24 00:00:12': '2020-05-11 23:59:00'}\n"
     ]
    }
   ],
   "source": [
    "checkTimeRange('b827eb8e2420')"
   ]
  },
  {
   "cell_type": "code",
   "execution_count": 7,
   "metadata": {},
   "outputs": [
    {
     "name": "stdout",
     "output_type": "stream",
     "text": [
      "b827eb905497:\n",
      "{'2017-03-15 10:17:54': '2017-03-24 23:59:17', '2018-03-15 19:08:16': '2018-05-11 11:36:20', '2019-02-24 00:00:08': '2019-05-12 23:59:00', '2020-02-24 00:00:03': '2020-04-13 02:45:43'}\n"
     ]
    }
   ],
   "source": [
    "checkTimeRange('b827eb905497')"
   ]
  },
  {
   "cell_type": "code",
   "execution_count": 8,
   "metadata": {},
   "outputs": [
    {
     "name": "stdout",
     "output_type": "stream",
     "text": [
      "b827eb0fedda:\n",
      "{'2017-02-24 15:35:37': '2017-05-12 23:59:47', '2018-03-02 11:17:57': '2018-05-12 23:59:04', '2019-02-25 00:01:14': '2019-05-12 23:58:58', '2020-02-24 00:00:09': '2020-05-11 23:59:36'}\n"
     ]
    }
   ],
   "source": [
    "checkTimeRange('b827eb0fedda')"
   ]
  },
  {
   "cell_type": "code",
   "execution_count": 9,
   "metadata": {},
   "outputs": [
    {
     "name": "stdout",
     "output_type": "stream",
     "text": [
      "b827eb1685c7:\n",
      "{'2017-02-24 00:00:20': '2017-03-24 23:59:43', '2018-02-24 00:00:10': '2018-03-22 08:05:50', '2019-02-24 00:00:04': '2019-05-12 23:55:59', '2020-02-24 00:00:10': '2020-05-08 23:59:23'}\n"
     ]
    }
   ],
   "source": [
    "checkTimeRange('b827eb1685c7')"
   ]
  },
  {
   "cell_type": "code",
   "execution_count": null,
   "metadata": {},
   "outputs": [],
   "source": []
  }
 ],
 "metadata": {
  "kernelspec": {
   "display_name": "birdsVE3.7",
   "language": "python",
   "name": "birdsve3.7"
  },
  "language_info": {
   "codemirror_mode": {
    "name": "ipython",
    "version": 3
   },
   "file_extension": ".py",
   "mimetype": "text/x-python",
   "name": "python",
   "nbconvert_exporter": "python",
   "pygments_lexer": "ipython3",
   "version": "3.7.6"
  }
 },
 "nbformat": 4,
 "nbformat_minor": 2
}
